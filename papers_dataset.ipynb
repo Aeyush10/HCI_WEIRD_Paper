{
 "cells": [
  {
   "cell_type": "code",
   "execution_count": null,
   "metadata": {},
   "outputs": [],
   "source": [
    "#Set up dataset\n",
    "import pandas as pd\n",
    "df = pd.read_csv('WEIRD - EUP - Papers-Categorized.csv')\n",
    "del df['DOI']\n",
    "del df['LINK']\n",
    "del df['Unnamed: 10']\n",
    "del df['Unnamed: 11']\n",
    "del df['Unnamed: 12']\n",
    "df.set_index('S.NO')\n",
    "print(df.keys())\n",
    "\n",
    "#Shorthands for keys\n",
    "contr = 'Contribution(TOOL TECH / Litretaure review / empirical studies'\n",
    "ifstudy = 'user study'\n",
    "wstudy = 'user study is WEIRD(YES/NO)'\n",
    "wcontr = 'Is Contribution related to WEIRD (YES/NO)'\n",
    "\n",
    "#Removing discarded rows (and printing them)\n",
    "for i in df.index:\n",
    "    df[contr][i] = str(df[contr][i]).lower()\n",
    "    df[contr][i] = df[contr][i].strip()\n",
    "    #print(i, df[contr][i])\n",
    "    if (df[contr][i] != 'tool tech' and df[contr][i] != 'empirical studies' and df[contr][i] != 'literature review'):\n",
    "        print(i, df[contr][i])\n",
    "        df = df.drop(i)\n",
    "for i in df.index:\n",
    "    df[ifstudy][i] = str(df[ifstudy][i]).lower()\n",
    "    df[ifstudy][i] = df[ifstudy][i].strip()\n",
    "    df[wcontr][i] = str(df[wcontr][i]).lower()\n",
    "    df[wcontr][i] = df[wcontr][i].strip()\n",
    "for i in df.index:\n",
    "    if (df[ifstudy][i] == 'yes'):\n",
    "        df[wstudy][i] = str(df[wstudy][i]).lower()\n",
    "        df[wstudy][i] = df[wstudy][i].strip()\n"
   ]
  },
  {
   "cell_type": "code",
   "execution_count": 19,
   "metadata": {},
   "outputs": [
    {
     "name": "stdout",
     "output_type": "stream",
     "text": [
      "{'tool tech': 100, 'empirical studies': 40, 'literature review': 14}\n"
     ]
    }
   ],
   "source": [
    "#Number of different types of papers by contribution\n",
    "contri = {'tool tech': 0,'empirical studies': 0, 'literature review': 0}\n",
    "for i in df.index:\n",
    "    contri[df[contr][i]] += 1\n",
    "print(contri)\n"
   ]
  },
  {
   "cell_type": "code",
   "execution_count": 18,
   "metadata": {},
   "outputs": [
    {
     "name": "stdout",
     "output_type": "stream",
     "text": [
      "{'no': 65, 'yes': 89}\n"
     ]
    }
   ],
   "source": [
    "#Number of user studies\n",
    "studies = {'no': 0,'yes': 0}\n",
    "for i in df.index:\n",
    "    studies[df[ifstudy][i]] += 1\n",
    "print(studies)"
   ]
  },
  {
   "cell_type": "code",
   "execution_count": 17,
   "metadata": {},
   "outputs": [
    {
     "name": "stdout",
     "output_type": "stream",
     "text": [
      "{'no': 2, 'yes': 17, 'unspecified': 70}\n"
     ]
    }
   ],
   "source": [
    "#Number of WEIRD user studies\n",
    "weirdstud = {'no': 0,'yes': 0, 'unspecified': 0}\n",
    "for i in df.index:\n",
    "    if (df[ifstudy][i] == 'yes'):\n",
    "        #print(i)\n",
    "        weirdstud[df[wstudy][i]] += 1\n",
    "print(weirdstud)"
   ]
  },
  {
   "cell_type": "code",
   "execution_count": 14,
   "metadata": {},
   "outputs": [
    {
     "name": "stdout",
     "output_type": "stream",
     "text": [
      "{'no': 149, 'yes': 5}\n"
     ]
    }
   ],
   "source": [
    "#Number of WEIRD contirbutuions\n",
    "weirdcont = {'no': 0,'yes': 0}\n",
    "for i in df.index:\n",
    "        #print(i)\n",
    "        weirdcont[df[wcontr][i]] += 1\n",
    "print(weirdcont)"
   ]
  },
  {
   "cell_type": "code",
   "execution_count": null,
   "metadata": {},
   "outputs": [],
   "source": [
    "for i in df.index:\n",
    "    df['Domain'][i] = str(df['Domain'][i]).lower()\n",
    "    df['Domain'][i] = df['Domain'][i].strip()\n",
    "df['Domain'].nunique()"
   ]
  },
  {
   "cell_type": "code",
   "execution_count": null,
   "metadata": {},
   "outputs": [],
   "source": [
    "for i in df.index:\n",
    "    df['Domain'][i] = str(df['Domain'][i]).lower()\n",
    "    df['Domain'][i] = df['Domain'][i].strip()\n",
    "df['Domain'].nunique()"
   ]
  },
  {
   "cell_type": "code",
   "execution_count": 16,
   "metadata": {},
   "outputs": [
    {
     "ename": "KeyError",
     "evalue": "75",
     "output_type": "error",
     "traceback": [
      "\u001b[0;31m---------------------------------------------------------------------------\u001b[0m",
      "\u001b[0;31mKeyError\u001b[0m                                  Traceback (most recent call last)",
      "File \u001b[0;32m~/miniconda3/lib/python3.9/site-packages/pandas/core/indexes/base.py:3802\u001b[0m, in \u001b[0;36mIndex.get_loc\u001b[0;34m(self, key, method, tolerance)\u001b[0m\n\u001b[1;32m   3801\u001b[0m \u001b[39mtry\u001b[39;00m:\n\u001b[0;32m-> 3802\u001b[0m     \u001b[39mreturn\u001b[39;00m \u001b[39mself\u001b[39;49m\u001b[39m.\u001b[39;49m_engine\u001b[39m.\u001b[39;49mget_loc(casted_key)\n\u001b[1;32m   3803\u001b[0m \u001b[39mexcept\u001b[39;00m \u001b[39mKeyError\u001b[39;00m \u001b[39mas\u001b[39;00m err:\n",
      "File \u001b[0;32m~/miniconda3/lib/python3.9/site-packages/pandas/_libs/index.pyx:138\u001b[0m, in \u001b[0;36mpandas._libs.index.IndexEngine.get_loc\u001b[0;34m()\u001b[0m\n",
      "File \u001b[0;32m~/miniconda3/lib/python3.9/site-packages/pandas/_libs/index.pyx:165\u001b[0m, in \u001b[0;36mpandas._libs.index.IndexEngine.get_loc\u001b[0;34m()\u001b[0m\n",
      "File \u001b[0;32mpandas/_libs/hashtable_class_helper.pxi:5745\u001b[0m, in \u001b[0;36mpandas._libs.hashtable.PyObjectHashTable.get_item\u001b[0;34m()\u001b[0m\n",
      "File \u001b[0;32mpandas/_libs/hashtable_class_helper.pxi:5753\u001b[0m, in \u001b[0;36mpandas._libs.hashtable.PyObjectHashTable.get_item\u001b[0;34m()\u001b[0m\n",
      "\u001b[0;31mKeyError\u001b[0m: 75",
      "\nThe above exception was the direct cause of the following exception:\n",
      "\u001b[0;31mKeyError\u001b[0m                                  Traceback (most recent call last)",
      "Cell \u001b[0;32mIn[16], line 3\u001b[0m\n\u001b[1;32m      1\u001b[0m \u001b[38;5;28;01mfor\u001b[39;00m i \u001b[38;5;129;01min\u001b[39;00m df\u001b[38;5;241m.\u001b[39mindex:\n\u001b[1;32m      2\u001b[0m     \u001b[38;5;28;01mif\u001b[39;00m (df[wcontr][i] \u001b[38;5;241m==\u001b[39m \u001b[38;5;124m'\u001b[39m\u001b[38;5;124myes\u001b[39m\u001b[38;5;124m'\u001b[39m):\n\u001b[0;32m----> 3\u001b[0m         \u001b[38;5;28mprint\u001b[39m(\u001b[43mdf\u001b[49m\u001b[43m[\u001b[49m\u001b[43mi\u001b[49m\u001b[43m]\u001b[49m)\n",
      "File \u001b[0;32m~/miniconda3/lib/python3.9/site-packages/pandas/core/frame.py:3807\u001b[0m, in \u001b[0;36mDataFrame.__getitem__\u001b[0;34m(self, key)\u001b[0m\n\u001b[1;32m   3805\u001b[0m \u001b[39mif\u001b[39;00m \u001b[39mself\u001b[39m\u001b[39m.\u001b[39mcolumns\u001b[39m.\u001b[39mnlevels \u001b[39m>\u001b[39m \u001b[39m1\u001b[39m:\n\u001b[1;32m   3806\u001b[0m     \u001b[39mreturn\u001b[39;00m \u001b[39mself\u001b[39m\u001b[39m.\u001b[39m_getitem_multilevel(key)\n\u001b[0;32m-> 3807\u001b[0m indexer \u001b[39m=\u001b[39m \u001b[39mself\u001b[39;49m\u001b[39m.\u001b[39;49mcolumns\u001b[39m.\u001b[39;49mget_loc(key)\n\u001b[1;32m   3808\u001b[0m \u001b[39mif\u001b[39;00m is_integer(indexer):\n\u001b[1;32m   3809\u001b[0m     indexer \u001b[39m=\u001b[39m [indexer]\n",
      "File \u001b[0;32m~/miniconda3/lib/python3.9/site-packages/pandas/core/indexes/base.py:3804\u001b[0m, in \u001b[0;36mIndex.get_loc\u001b[0;34m(self, key, method, tolerance)\u001b[0m\n\u001b[1;32m   3802\u001b[0m     \u001b[39mreturn\u001b[39;00m \u001b[39mself\u001b[39m\u001b[39m.\u001b[39m_engine\u001b[39m.\u001b[39mget_loc(casted_key)\n\u001b[1;32m   3803\u001b[0m \u001b[39mexcept\u001b[39;00m \u001b[39mKeyError\u001b[39;00m \u001b[39mas\u001b[39;00m err:\n\u001b[0;32m-> 3804\u001b[0m     \u001b[39mraise\u001b[39;00m \u001b[39mKeyError\u001b[39;00m(key) \u001b[39mfrom\u001b[39;00m \u001b[39merr\u001b[39;00m\n\u001b[1;32m   3805\u001b[0m \u001b[39mexcept\u001b[39;00m \u001b[39mTypeError\u001b[39;00m:\n\u001b[1;32m   3806\u001b[0m     \u001b[39m# If we have a listlike key, _check_indexing_error will raise\u001b[39;00m\n\u001b[1;32m   3807\u001b[0m     \u001b[39m#  InvalidIndexError. Otherwise we fall through and re-raise\u001b[39;00m\n\u001b[1;32m   3808\u001b[0m     \u001b[39m#  the TypeError.\u001b[39;00m\n\u001b[1;32m   3809\u001b[0m     \u001b[39mself\u001b[39m\u001b[39m.\u001b[39m_check_indexing_error(key)\n",
      "\u001b[0;31mKeyError\u001b[0m: 75"
     ]
    }
   ],
   "source": [
    "for i in df.index:\n",
    "    if (df[wcontr][i] == 'yes'):\n",
    "        print(df[i])"
   ]
  }
 ],
 "metadata": {
  "kernelspec": {
   "display_name": "Python 3.9.16 ('base')",
   "language": "python",
   "name": "python3"
  },
  "language_info": {
   "codemirror_mode": {
    "name": "ipython",
    "version": 3
   },
   "file_extension": ".py",
   "mimetype": "text/x-python",
   "name": "python",
   "nbconvert_exporter": "python",
   "pygments_lexer": "ipython3",
   "version": "3.9.16"
  },
  "orig_nbformat": 4,
  "vscode": {
   "interpreter": {
    "hash": "7ce229b45ac00414b300f9d6524bd5086d04f63c306c73c461f47dd6289ee472"
   }
  }
 },
 "nbformat": 4,
 "nbformat_minor": 2
}
